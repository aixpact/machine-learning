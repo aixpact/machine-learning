{
 "cells": [
  {
   "cell_type": "markdown",
   "metadata": {},
   "source": [
    "# Classification and prediction of blight violations"
   ]
  },
  {
   "cell_type": "markdown",
   "metadata": {},
   "source": [
    "---\n",
    "\n",
    "_You are currently looking at **version 1.1** of this notebook._\n",
    "\n",
    "---"
   ]
  },
  {
   "cell_type": "markdown",
   "metadata": {},
   "source": [
    "### Detroit blight - Exploring and Predicting Property Maintenance Fines\n",
    "\n",
    "This assignment is based on a data challenge from the Michigan Data Science Team ([MDST](http://midas.umich.edu/mdst/)). \n",
    "\n",
    "The Michigan Data Science Team ([MDST](http://midas.umich.edu/mdst/)) and the Michigan Student Symposium for Interdisciplinary Statistical Sciences ([MSSISS](https://sites.lsa.umich.edu/mssiss/)) have partnered with the City of Detroit to help solve one of the most pressing problems facing Detroit - blight. [Blight violations](http://www.detroitmi.gov/How-Do-I/Report/Blight-Complaint-FAQs) are issued by the city to individuals who allow their properties to remain in a deteriorated condition. Every year, the city of Detroit issues millions of dollars in fines to residents and every year, many of these fines remain unpaid. Enforcing unpaid blight fines is a costly and tedious process, so the city wants to know: how can we increase blight ticket compliance?\n",
    "\n",
    "The first step in answering this question is understanding when and why a resident might fail to comply with a blight ticket. This is where predictive modeling comes in. For this assignment, your task is to predict whether a given blight ticket will be paid on time.\n",
    "\n",
    "All data for this assignment has been provided to us through the [Detroit Open Data Portal](https://data.detroitmi.gov/). **Only the data already included in your Coursera directory can be used for training the model for this assignment.** Nonetheless, we encourage you to look into data from other Detroit datasets to help inform feature creation and model selection. We recommend taking a look at the following related datasets:\n",
    "\n",
    "* [Building Permits](https://data.detroitmi.gov/Property-Parcels/Building-Permits/xw2a-a7tf)\n",
    "* [Trades Permits](https://data.detroitmi.gov/Property-Parcels/Trades-Permits/635b-dsgv)\n",
    "* [Improve Detroit: Submitted Issues](https://data.detroitmi.gov/Government/Improve-Detroit-Submitted-Issues/fwz3-w3yn)\n",
    "* [DPD: Citizen Complaints](https://data.detroitmi.gov/Public-Safety/DPD-Citizen-Complaints-2016/kahe-efs3)\n",
    "* [Parcel Map](https://data.detroitmi.gov/Property-Parcels/Parcel-Map/fxkw-udwf)\n",
    "\n",
    "___\n",
    "\n",
    "We provide you with two data files for use in training and validating your models: train.csv and test.csv. Each row in these two files corresponds to a single blight ticket, and includes information about when, why, and to whom each ticket was issued. The target variable is compliance, which is True if the ticket was paid early, on time, or within one month of the hearing data, False if the ticket was paid after the hearing date or not at all, and Null if the violator was found not responsible. Compliance, as well as a handful of other variables that will not be available at test-time, are only included in train.csv.\n",
    "\n",
    "Note: All tickets where the violators were found not responsible are not considered during evaluation. They are included in the training set as an additional source of data for visualization, and to enable unsupervised and semi-supervised approaches. However, they are not included in the test set.\n",
    "\n",
    "**File descriptions** (Use only this data for training your model!)\n",
    "\n",
    "    train.csv - the training set (all tickets issued 2004-2011)\n",
    "    test.csv - the test set (all tickets issued 2012-2016)\n",
    "    addresses.csv & latlons.csv - mapping from ticket id to addresses, and from addresses to lat/lon coordinates. \n",
    "     Note: misspelled addresses may be incorrectly geolocated.\n",
    "\n",
    "**Data fields**\n",
    "\n",
    "train.csv & test.csv\n",
    "\n",
    "    ticket_id - unique identifier for tickets\n",
    "    agency_name - Agency that issued the ticket\n",
    "    inspector_name - Name of inspector that issued the ticket\n",
    "    violator_name - Name of the person/organization that the ticket was issued to\n",
    "    violation_street_number, violation_street_name, violation_zip_code - Address where the violation occurred\n",
    "    mailing_address_str_number, mailing_address_str_name, city, state, zip_code, non_us_str_code, country - Mailing address of the violator\n",
    "    ticket_issued_date - Date and time the ticket was issued\n",
    "    hearing_date - Date and time the violator's hearing was scheduled\n",
    "    violation_code, violation_description - Type of violation\n",
    "    disposition - Judgment and judgement type\n",
    "    fine_amount - Violation fine amount, excluding fees\n",
    "    admin_fee - $20 fee assigned to responsible judgments\n",
    "state_fee - $10 fee assigned to responsible judgments\n",
    "    late_fee - 10% fee assigned to responsible judgments\n",
    "    discount_amount - discount applied, if any\n",
    "    clean_up_cost - DPW clean-up or graffiti removal cost\n",
    "    judgment_amount - Sum of all fines and fees\n",
    "    grafitti_status - Flag for graffiti violations\n",
    "    \n",
    "train.csv only\n",
    "\n",
    "    payment_amount - Amount paid, if any\n",
    "    payment_date - Date payment was made, if it was received\n",
    "    payment_status - Current payment status as of Feb 1 2017\n",
    "    balance_due - Fines and fees still owed\n",
    "    collection_status - Flag for payments in collections\n",
    "    compliance [target variable for prediction] \n",
    "     Null = Not responsible\n",
    "     0 = Responsible, non-compliant\n",
    "     1 = Responsible, compliant\n",
    "    compliance_detail - More information on why each ticket was marked compliant or non-compliant\n",
    "___\n"
   ]
  },
  {
   "cell_type": "markdown",
   "metadata": {},
   "source": [
    "### Import"
   ]
  },
  {
   "cell_type": "code",
   "execution_count": null,
   "metadata": {},
   "outputs": [],
   "source": [
    "% matplotlib inline\n",
    "\n",
    "import numpy as np\n",
    "import pandas as pd\n",
    "import matplotlib as mpl\n",
    "import matplotlib.pyplot as plt\n",
    "import re\n",
    "\n",
    "from sklearn.preprocessing import RobustScaler, StandardScaler, MinMaxScaler\n",
    "from sklearn.model_selection import train_test_split"
   ]
  },
  {
   "cell_type": "code",
   "execution_count": null,
   "metadata": {},
   "outputs": [],
   "source": [
    "np.set_printoptions(precision=4)"
   ]
  },
  {
   "cell_type": "markdown",
   "metadata": {},
   "source": [
    "### General Helper functions"
   ]
  },
  {
   "cell_type": "code",
   "execution_count": null,
   "metadata": {},
   "outputs": [],
   "source": [
    "def num_features(df):\n",
    "    return df.select_dtypes(include=[np.number]).columns.tolist()\n",
    "\n",
    "def cat_features(df):\n",
    "    return df.select_dtypes(include=['object', 'category']).columns\n",
    "\n",
    "def date_features(df):\n",
    "    return df.columns.str.extractall(r'(.*date.*)')[0].values.tolist()\n",
    "\n",
    "def clip_outliers(values, p=99):\n",
    "    \"\"\"clip at 1.5 IQR\"\"\"\n",
    "    min = np.percentile(values, 100-p)\n",
    "    max = np.percentile(values, p)\n",
    "    return np.clip(values, min, max)\n",
    "\n",
    "def numerize_code(df, feature, replace=0):\n",
    "    df[feature] = pd.to_numeric(df[feature], errors='coerce')\n",
    "    nums = df[feature].fillna(replace).astype('int64')\n",
    "    return clip_outliers(nums)\n",
    "\n",
    "def alpharize_code(df, feature, bins, replace=0, cut=pd.qcut, upper=True):\n",
    "    zipcode = numerize_code(df, feature, replace)\n",
    "    labels = list('ABCDEFGHIJKLMNOPQRSTUVWXYZ')[:bins]\n",
    "    if not upper:\n",
    "        labels = list(map(lambda x:x.lower(), labels))\n",
    "    return cut(zipcode, bins, labels=labels)\n",
    "\n",
    "def factorized(df):\n",
    "    if isinstance(df, pd.Series):\n",
    "        return df.factorize()[0]\n",
    "    return df.loc[:, cat_features(df)].apply(lambda x: x.factorize()[0])\n",
    "\n",
    "def cat_distribution(df, cat_feature, target):\n",
    "    df[cat_feature] = df[cat_feature].fillna('missing')\n",
    "    group = df.groupby([cat_feature, target])[target].count().unstack(level=0).T.fillna(0)\n",
    "    return group"
   ]
  },
  {
   "cell_type": "markdown",
   "metadata": {},
   "source": [
    "### Data"
   ]
  },
  {
   "cell_type": "code",
   "execution_count": null,
   "metadata": {},
   "outputs": [],
   "source": [
    "set_types = {'compliance':object}\n",
    "df_train = pd.read_csv('../_data/train.csv', encoding='latin-1', low_memory=False, dtype=set_types)\n",
    "df_test = pd.read_csv('../_data/test.csv', encoding='latin-1', low_memory=False, dtype=set_types)"
   ]
  },
  {
   "cell_type": "markdown",
   "metadata": {},
   "source": [
    "#### Targets  \n",
    " - Set y(target) to proper category type\n",
    " - replace 'Not responsible' by 2"
   ]
  },
  {
   "cell_type": "code",
   "execution_count": null,
   "metadata": {},
   "outputs": [],
   "source": [
    "df = df_train.copy(deep=True)\n",
    "df['compliance'] = df['compliance'].fillna(2).replace({'0.0': 0, '1.0': 1}).astype('category')\n",
    "np.bincount(df['compliance'])\n",
    "df.groupby(['compliance'])['compliance'].count()"
   ]
  },
  {
   "cell_type": "markdown",
   "metadata": {},
   "source": [
    "### Train set"
   ]
  },
  {
   "cell_type": "markdown",
   "metadata": {},
   "source": [
    "#### Garbage Feature Collection\n",
    " - Clean garbage features"
   ]
  },
  {
   "cell_type": "code",
   "execution_count": null,
   "metadata": {},
   "outputs": [],
   "source": [
    "garbage_features = ['city', 'clean_up_cost', 'disposition', 'grafitti_status', 'hearing_date', 'late_fee',\n",
    " 'mailing_address_str_name', 'mailing_address_str_number', 'non_us_str_code', 'state_fee', 'ticket_id',\n",
    " 'violation_code', 'violation_street_name', 'violation_street_number', 'violation_zip_code', 'violator_name',\n",
    " 'payment_amount', 'balance_due']\n",
    "\n",
    "df.drop(garbage_features, axis=1, inplace=True)"
   ]
  },
  {
   "cell_type": "markdown",
   "metadata": {},
   "source": [
    "#### Feature engineering"
   ]
  },
  {
   "cell_type": "code",
   "execution_count": null,
   "metadata": {},
   "outputs": [],
   "source": [
    "# Factorize in levels\n",
    "df['zip_code'] = factorized(df['zip_code'])\n",
    "df['agency_name'] = factorized(df['agency_name'])\n",
    "df['inspector_name'] = factorized(df['inspector_name'])\n",
    "df['violation_description'] = factorized(df['violation_description'])\n",
    "\n",
    "# Detroit yes/no\n",
    "df['state'] = factorized(df['state'])\n",
    "df.loc[df['state'] != 0, 'state'] = 1\n",
    "\n",
    "# USA yes/no\n",
    "df.loc[df['country'] == 'USA', 'country'] = 1\n",
    "df.loc[df['country'] != 1, 'country'] = 0"
   ]
  },
  {
   "cell_type": "markdown",
   "metadata": {},
   "source": [
    "#### EDA impute NaN's"
   ]
  },
  {
   "cell_type": "code",
   "execution_count": null,
   "metadata": {},
   "outputs": [],
   "source": [
    "null_columns = list(df.columns[df.isnull().any()])\n",
    "null_objects = cat_features(df[null_columns])\n",
    "null_numerics = num_features(df[null_columns])\n",
    "\n",
    "# Convert date features to date and forward fill NaN's\n",
    "df.loc[:, date_features(df)] = df.loc[:, date_features].apply(pd.to_datetime)\n",
    "_ = [df.loc[:, x].fillna(method='ffill', inplace=True) for x in date_features(df)]\n",
    "\n",
    "# Fill NaN's with mean for categorical/numeric columns\n",
    "_ = [df.loc[:, x].fillna('', inplace=True) for x in null_objects]\n",
    "_ = [df.loc[:, x].fillna(df.loc[:, x].mean(), inplace=True) for x in null_numerics]\n",
    "\n",
    "assert df.isnull().sum().sum() == 0, 'Not all NaNs are removed'"
   ]
  },
  {
   "cell_type": "markdown",
   "metadata": {},
   "source": [
    "#### Drop label '2' - NaN's"
   ]
  },
  {
   "cell_type": "code",
   "execution_count": null,
   "metadata": {},
   "outputs": [],
   "source": [
    "# Split numerical features?????\n",
    "not_nan = df['compliance'] != 2\n",
    "X_train = df.loc[not_nan, num_features(df)]\n",
    "y_train = df.loc[not_nan, 'compliance']"
   ]
  },
  {
   "cell_type": "markdown",
   "metadata": {},
   "source": [
    "#### Train-validate split"
   ]
  },
  {
   "cell_type": "code",
   "execution_count": null,
   "metadata": {},
   "outputs": [],
   "source": [
    "X_train, X_val, y_train, y_val = train_test_split(X_train, y_train, random_state=0)"
   ]
  },
  {
   "cell_type": "markdown",
   "metadata": {},
   "source": [
    "#### Scaling, transforming features"
   ]
  },
  {
   "cell_type": "code",
   "execution_count": null,
   "metadata": {},
   "outputs": [],
   "source": [
    "# Scaling incl. class 2?????\n",
    "scaler = RobustScaler()\n",
    "X_train = scaler.fit_transform(X_train)\n",
    "\n",
    "X_val = scaler.transform(X_val)"
   ]
  },
  {
   "cell_type": "markdown",
   "metadata": {},
   "source": [
    "#### Train model"
   ]
  },
  {
   "cell_type": "code",
   "execution_count": null,
   "metadata": {},
   "outputs": [],
   "source": [
    "from sklearn.ensemble import GradientBoostingClassifier\n",
    "gb = GradientBoostingClassifier(learning_rate=0.05, max_depth=2, random_state=0).fit(X_train, y_train)"
   ]
  },
  {
   "cell_type": "markdown",
   "metadata": {},
   "source": [
    "#### Train score"
   ]
  },
  {
   "cell_type": "code",
   "execution_count": null,
   "metadata": {},
   "outputs": [],
   "source": [
    "y_train_pred = gb.predict(X_train)\n",
    "sum(y_train_pred == y_train) / y_train.shape[0]\n",
    "\n",
    "gb.score(X_train, y_train).round(4)"
   ]
  },
  {
   "cell_type": "markdown",
   "metadata": {},
   "source": [
    "#### Validation score"
   ]
  },
  {
   "cell_type": "code",
   "execution_count": null,
   "metadata": {},
   "outputs": [],
   "source": [
    "y_val_pred = gb.predict(X_val)\n",
    "sum(y_val_pred == y_val) / y_val.shape[0]\n",
    "\n",
    "gb.score(X_val, y_val).round(4)"
   ]
  },
  {
   "cell_type": "markdown",
   "metadata": {},
   "source": [
    "### Test set"
   ]
  },
  {
   "cell_type": "code",
   "execution_count": null,
   "metadata": {},
   "outputs": [],
   "source": [
    "df = df_test.copy(deep=True)\n",
    "\n",
    "garbage_features = set(garbage_features) - set(['payment_amount', 'balance_due'])\n",
    "\n",
    "# EDA Clean and split featureset\n",
    "df.drop(garbage_features, axis=1, inplace=True)"
   ]
  },
  {
   "cell_type": "markdown",
   "metadata": {},
   "source": [
    "#### Feature engineering"
   ]
  },
  {
   "cell_type": "code",
   "execution_count": null,
   "metadata": {},
   "outputs": [],
   "source": [
    "# Factorize in levels\n",
    "df['zip_code'] = factorized(df['zip_code'])\n",
    "df['agency_name'] = factorized(df['agency_name'])\n",
    "df['inspector_name'] = factorized(df['inspector_name'])\n",
    "df['violation_description'] = factorized(df['violation_description'])\n",
    "\n",
    "# Detroit yes/no\n",
    "df['state'] = factorized(df['state'])\n",
    "df.loc[df['state'] != 0, 'state'] = 1\n",
    "\n",
    "# USA yes/no\n",
    "df.loc[df['country'] == 'USA', 'country'] = 1\n",
    "df.loc[df['country'] != 1, 'country'] = 0"
   ]
  },
  {
   "cell_type": "markdown",
   "metadata": {},
   "source": [
    "#### EDA impute NaN's"
   ]
  },
  {
   "cell_type": "code",
   "execution_count": null,
   "metadata": {},
   "outputs": [],
   "source": [
    "null_columns = list(df.columns[df.isnull().any()])\n",
    "null_objects = cat_features(df[null_columns])\n",
    "null_numerics = num_features(df[null_columns])\n",
    "\n",
    "# Convert date features to date and forward fill NaN's\n",
    "df.loc[:, date_features(df)] = df.loc[:, date_features].apply(pd.to_datetime)\n",
    "_ = [df.loc[:, x].fillna(method='ffill', inplace=True) for x in date_features(df)]\n",
    "\n",
    "# Fill NaN's with mean for categorical/numeric columns\n",
    "_ = [df.loc[:, x].fillna('', inplace=True) for x in null_objects]\n",
    "_ = [df.loc[:, x].fillna(df.loc[:, x].mean(), inplace=True) for x in null_numerics]\n",
    "\n",
    "assert df.isnull().sum().sum() == 0, 'Not all NaNs are removed'"
   ]
  },
  {
   "cell_type": "markdown",
   "metadata": {},
   "source": [
    "#### Scaling, transforming numerical features"
   ]
  },
  {
   "cell_type": "code",
   "execution_count": null,
   "metadata": {},
   "outputs": [],
   "source": [
    "df_num_test = df.loc[:, num_features(df)]\n",
    "X_test= scaler.transform(df_num_test)"
   ]
  },
  {
   "cell_type": "markdown",
   "metadata": {},
   "source": [
    "#### Prediction"
   ]
  },
  {
   "cell_type": "code",
   "execution_count": null,
   "metadata": {},
   "outputs": [],
   "source": [
    "y_pred = gb.predict(X_test)\n",
    "pd.DataFrame(list(zip(y_pred, df_test['ticket_id']))).set_index(1).sample(5)"
   ]
  },
  {
   "cell_type": "code",
   "execution_count": null,
   "metadata": {},
   "outputs": [],
   "source": [
    "np.bincount(y_pred)"
   ]
  },
  {
   "cell_type": "markdown",
   "metadata": {},
   "source": [
    "#### Test score"
   ]
  },
  {
   "cell_type": "code",
   "execution_count": null,
   "metadata": {},
   "outputs": [],
   "source": [
    "# test set doesnot have labels - no score available"
   ]
  }
 ],
 "metadata": {
  "language_info": {
   "name": "python",
   "pygments_lexer": "ipython3"
  }
 },
 "nbformat": 4,
 "nbformat_minor": 2
}
