{
 "cells": [
  {
   "cell_type": "markdown",
   "metadata": {},
   "source": [
    "# Classifier Visualisation\n",
    "\n",
    "The purpose of this notebook is to let you visualize various classsifiers' decision boundaries.\n",
    "\n",
    "The data used in this notebook is based on the [UCI Mushroom Data Set](http://archive.ics.uci.edu/ml/datasets/Mushroom?ref=datanews.io) stored in `mushrooms.csv`. \n",
    "\n",
    "In order to better vizualize the decision boundaries, we'll perform Principal Component Analysis (PCA) on the data to reduce the dimensionality to 2 dimensions. Dimensionality reduction will be covered in module 4 of this course."
   ]
  },
  {
   "cell_type": "markdown",
   "metadata": {},
   "source": [
    "---\n",
    "\n",
    "_You are currently looking at **version 1.0** of this notebook._\n",
    "\n",
    "---"
   ]
  },
  {
   "cell_type": "code",
   "execution_count": null,
   "metadata": {},
   "outputs": [],
   "source": [
    "%matplotlib inline\n",
    "\n",
    "import pandas as pd\n",
    "import numpy as np\n",
    "import matplotlib.pyplot as plt\n",
    "from sklearn.decomposition import PCA\n",
    "from sklearn.model_selection import train_test_split"
   ]
  },
  {
   "cell_type": "code",
   "execution_count": null,
   "metadata": {},
   "outputs": [],
   "source": [
    "from sklearn.linear_model import LogisticRegression\n",
    "from sklearn.neighbors import KNeighborsClassifier\n",
    "from sklearn.tree import DecisionTreeClassifier\n",
    "from sklearn.ensemble import RandomForestClassifier\n",
    "from sklearn.svm import SVC\n",
    "from sklearn.naive_bayes import GaussianNB\n",
    "from sklearn.neural_network import MLPClassifier"
   ]
  },
  {
   "cell_type": "code",
   "execution_count": null,
   "metadata": {},
   "outputs": [],
   "source": [
    "path = !find ../.. | grep -i mushrooms.csv\n",
    "path"
   ]
  },
  {
   "cell_type": "code",
   "execution_count": null,
   "metadata": {},
   "outputs": [],
   "source": [
    "df = pd.read_csv(path[0])\n",
    "df.info()\n",
    "df.sample(5)"
   ]
  },
  {
   "cell_type": "markdown",
   "metadata": {},
   "source": [
    "### Dummify features"
   ]
  },
  {
   "cell_type": "code",
   "execution_count": null,
   "metadata": {},
   "outputs": [],
   "source": [
    "df2 = pd.get_dummies(df)\n",
    "df2.shape\n",
    "df2.sample(5)"
   ]
  },
  {
   "cell_type": "markdown",
   "metadata": {},
   "source": [
    "### Sample set"
   ]
  },
  {
   "cell_type": "code",
   "execution_count": null,
   "metadata": {},
   "outputs": [],
   "source": [
    "df3 = df2.sample(frac=0.2)\n",
    "\n",
    "X = df3.iloc[:, 2:]\n",
    "y = df3.iloc[:, 1]\n",
    "list(map(np.shape, (X, y)))"
   ]
  },
  {
   "cell_type": "markdown",
   "metadata": {},
   "source": [
    "### PCA"
   ]
  },
  {
   "cell_type": "code",
   "execution_count": null,
   "metadata": {},
   "outputs": [],
   "source": [
    "pca = PCA(n_components=2).fit_transform(X)\n",
    "pca"
   ]
  },
  {
   "cell_type": "markdown",
   "metadata": {},
   "source": [
    "### Train-test split (on PCA features)"
   ]
  },
  {
   "cell_type": "code",
   "execution_count": null,
   "metadata": {},
   "outputs": [],
   "source": [
    "X_train, X_test, y_train, y_test = train_test_split(pca, y, random_state=0)"
   ]
  },
  {
   "cell_type": "code",
   "execution_count": null,
   "metadata": {},
   "outputs": [],
   "source": [
    "def plot_boundary(X, y, fitted_model):\n",
    "\n",
    "    fig, axes = plt.subplots(1, 3, figsize=(18, 6), sharex=True, sharey=True)\n",
    "    titles = ['Mushroom Dataset', 'Decision Boundary', 'Decision Probabilities']\n",
    "    \n",
    "    for i, plot_type, ax in zip(range(3), titles, axes):\n",
    "\n",
    "        # Setup grid\n",
    "        mesh_step_size = 0.01  # step size in the mesh\n",
    "        ax_xpad, ax_ypad = 1, 1\n",
    "        x_min, x_max = X[:, 0].min() - ax_xpad, X[:, 0].max() + ax_xpad\n",
    "        y_min, y_max = X[:, 1].min() - ax_ypad, X[:, 1].max() + ax_ypad\n",
    "        xx, yy = np.meshgrid(np.arange(x_min, x_max, mesh_step_size), np.arange(y_min, y_max, mesh_step_size))\n",
    "        \n",
    "        # Compute Decision Boundary & Decision Probabilities(if available)\n",
    "        if i == 1:\n",
    "            Z = fitted_model.predict(np.c_[xx.ravel(), yy.ravel()])\n",
    "        elif i == 2:\n",
    "            try:\n",
    "                Z = fitted_model.predict_proba(np.c_[xx.ravel(), yy.ravel()])[:,1]\n",
    "            except:   # Decision Probabilities not available\n",
    "                plt.text(0.4, 0.5, 'Probabilities Unavailable', horizontalalignment='center',\n",
    "                     verticalalignment='center', transform=plt.gca().transAxes, fontsize=12)\n",
    "                plt.axis('off')\n",
    "                break\n",
    "        \n",
    "        # Plot PC1 vs PC2 - edible/poisonous\n",
    "        ax.scatter(X[y.values==0, 0], X[y.values==0, 1], alpha=0.5, label='Edible', s=5)\n",
    "        ax.scatter(X[y.values==1, 0], X[y.values==1, 1], alpha=0.5, label='Posionous', s=5)\n",
    "        \n",
    "        # Plot fill\n",
    "        if i != 0:\n",
    "            Z = Z.reshape(xx.shape)\n",
    "            ax.imshow(Z, interpolation='nearest', cmap='RdYlBu_r', alpha=0.25, \n",
    "                       extent=(x_min, x_max, y_min, y_max), origin='lower')\n",
    "        \n",
    "        # Title and labels    \n",
    "        sup_title = 'Model: {}\\nTest Accuracy:{}'.format(str(fitted_model).split('(')[0],                                                    \n",
    "                                                           fitted_model.score(X, y).round(3))\n",
    "\n",
    "        if i == 0:\n",
    "            plt.suptitle(sup_title, size=14)\n",
    "            ax.set_xlabel('PC1', size=14)\n",
    "            ax.set_ylabel('PC2', size=14)\n",
    "            \n",
    "        ax.set_title(plot_type, size=14)  \n",
    "        ax.set_aspect('equal');\n",
    "        \n",
    "    plt.tight_layout()\n",
    "    plt.subplots_adjust(top=0.8, bottom=0.0, wspace=0.1)"
   ]
  },
  {
   "cell_type": "code",
   "execution_count": null,
   "metadata": {},
   "outputs": [],
   "source": [
    "classifiers = [\n",
    "    LogisticRegression(),\n",
    "    KNeighborsClassifier(n_neighbors=20),\n",
    "    DecisionTreeClassifier(max_depth=3),\n",
    "    DecisionTreeClassifier(),\n",
    "    RandomForestClassifier(),\n",
    "    SVC(kernel='linear'),\n",
    "    SVC(kernel='rbf', C=1),\n",
    "    SVC(kernel='rbf', C=10),\n",
    "    GaussianNB(),\n",
    "    MLPClassifier()\n",
    "]\n",
    "\n",
    "for model in classifiers:\n",
    "    _ = model.fit(X_train, y_train)\n",
    "    plot_boundary(X_test, y_test, model)"
   ]
  },
  {
   "cell_type": "code",
   "execution_count": null,
   "metadata": {},
   "outputs": [],
   "source": []
  },
  {
   "cell_type": "code",
   "execution_count": null,
   "metadata": {},
   "outputs": [],
   "source": []
  },
  {
   "cell_type": "code",
   "execution_count": null,
   "metadata": {},
   "outputs": [],
   "source": []
  }
 ],
 "metadata": {
  "language_info": {
   "name": "python",
   "pygments_lexer": "ipython3"
  }
 },
 "nbformat": 4,
 "nbformat_minor": 2
}
