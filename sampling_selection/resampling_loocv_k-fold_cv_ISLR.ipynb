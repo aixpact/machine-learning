{
 "cells": [
  {
   "cell_type": "markdown",
   "metadata": {},
   "source": [
    "- [Load dataset](#Load-dataset)\n",
    "- [Cross-Validation](#5.1-Cross-Validation)"
   ]
  },
  {
   "cell_type": "markdown",
   "metadata": {},
   "source": [
    "# Chapter 5 - Resampling Methods"
   ]
  },
  {
   "cell_type": "code",
   "execution_count": null,
   "metadata": {},
   "outputs": [],
   "source": [
    "# %load ../standard_import.txt\n",
    "import pandas as pd\n",
    "import numpy as np\n",
    "import matplotlib.pyplot as plt\n",
    "import seaborn as sns\n",
    "\n",
    "from sklearn.linear_model import LinearRegression\n",
    "from sklearn.metrics import mean_squared_error\n",
    "from sklearn.model_selection import train_test_split, LeaveOneOut, KFold, cross_val_score\n",
    "from sklearn.preprocessing import PolynomialFeatures\n",
    "\n",
    "# pd.set_option('display.notebook_repr_html', False)\n",
    "\n",
    "%matplotlib inline\n",
    "plt.style.use('seaborn-white')"
   ]
  },
  {
   "cell_type": "markdown",
   "metadata": {},
   "source": [
    "### Load dataset"
   ]
  },
  {
   "cell_type": "markdown",
   "metadata": {},
   "source": [
    "Dataset available on http://www-bcf.usc.edu/~gareth/ISL/data.html"
   ]
  },
  {
   "cell_type": "code",
   "execution_count": null,
   "metadata": {},
   "outputs": [],
   "source": [
    "df1 = pd.read_csv('../../_data/Auto.csv', na_values='?').dropna()\n",
    "df1.info()"
   ]
  },
  {
   "cell_type": "markdown",
   "metadata": {},
   "source": [
    "## 5.1 Cross-Validation"
   ]
  },
  {
   "cell_type": "markdown",
   "metadata": {},
   "source": [
    "### Validation Set Approach (Figure 5.2)\n",
    "Using Polynomial feature generation in scikit-learn<BR>\n",
    "http://scikit-learn.org/dev/modules/preprocessing.html#generating-polynomial-features"
   ]
  },
  {
   "cell_type": "code",
   "execution_count": null,
   "metadata": {},
   "outputs": [],
   "source": [
    "test_prop = 0.5\n",
    "p_order = np.arange(1, 11)\n",
    "r_state = np.arange(10)\n",
    "\n",
    "X, Y = np.meshgrid(p_order, r_state, indexing='ij')\n",
    "Z = np.zeros((p_order.size, r_state.size))\n",
    "\n",
    "regr = LinearRegression()\n",
    "\n",
    "# Generate 10 random splits of the dataset along 10 different polynomials\n",
    "for (i,j), _ in np.ndenumerate(Z):\n",
    "    \n",
    "    # Transform to polynomial\n",
    "    poly = PolynomialFeatures(int(X[i,j])) # 1,1,1,...,10,10,10\n",
    "    X_poly = poly.fit_transform(df1.horsepower.values.reshape(-1, 1))\n",
    "    \n",
    "    X_train, X_test, y_train, y_test = train_test_split(X_poly, df1.mpg.ravel(),\n",
    "                                                        test_size=test_prop, random_state=Y[i,j]) # 0,0,0,...,9,9,9\n",
    "                                                                        \n",
    "    _ = regr.fit(X_train, y_train)\n",
    "    pred = regr.predict(X_test)\n",
    "    Z[i,j] = mean_squared_error(y_test, pred)"
   ]
  },
  {
   "cell_type": "code",
   "execution_count": null,
   "metadata": {},
   "outputs": [],
   "source": [
    "fig, (ax1, ax2) = plt.subplots(1,2, figsize=(16, 6))\n",
    "\n",
    "# Left plot (first split)\n",
    "_ = ax1.plot(X.T[0], Z.T.mean(0), '-o')\n",
    "_ = ax1.set_title('Mean of random splits of the data set')\n",
    "\n",
    "# Right plot (all splits)\n",
    "_ = ax2.plot(X,Z)\n",
    "_ = ax2.set_title('10 random splits of the data set')\n",
    "\n",
    "for ax in fig.axes:\n",
    "    _ = ax.set_ylabel('Mean Squared Error')\n",
    "    _ = ax.set_ylim(15, 30)\n",
    "    _ = ax.set_xlabel('Degree of Polynomial')\n",
    "    _ = ax.set_xlim(0.5, 10.5)\n",
    "    _ = ax.set_xticks(range(2,11,2));"
   ]
  },
  {
   "cell_type": "markdown",
   "metadata": {},
   "source": [
    "### LOOCV (Figure 5.4)"
   ]
  },
  {
   "cell_type": "code",
   "execution_count": null,
   "metadata": {},
   "outputs": [],
   "source": [
    "p_order = np.arange(1, 11)\n",
    "r_state = np.arange(0, 10)\n",
    "\n",
    "# LeaveOneOut CV\n",
    "regr = LinearRegression()\n",
    "loo = LeaveOneOut().get_n_splits(df1)\n",
    "scores = list()\n",
    "\n",
    "for i in p_order:\n",
    "    poly = PolynomialFeatures(i)\n",
    "    X_poly = poly.fit_transform(df1.horsepower.values.reshape(-1,1))\n",
    "    score = cross_val_score(regr, X_poly, df1.mpg, cv=loo, scoring='neg_mean_squared_error').mean()\n",
    "    scores.append(score)\n",
    "scores"
   ]
  },
  {
   "cell_type": "markdown",
   "metadata": {},
   "source": [
    "### k-Fold Cross Validation"
   ]
  },
  {
   "cell_type": "code",
   "execution_count": null,
   "metadata": {},
   "outputs": [],
   "source": [
    "# \n",
    "folds = 10\n",
    "elements = len(df1.index)\n",
    "\n",
    "X, Y = np.meshgrid(p_order, r_state, indexing='ij')\n",
    "Z = np.zeros((p_order.size, r_state.size))\n",
    "\n",
    "regr = LinearRegression()\n",
    "\n",
    "for (i,j), _ in np.ndenumerate(Z):\n",
    "    \n",
    "    poly = PolynomialFeatures(X[i,j])\n",
    "    X_poly = poly.fit_transform(df1.horsepower.values.reshape(-1, 1))\n",
    "    \n",
    "    kf = KFold(n_splits=10, random_state=Y[i,j]).get_n_splits(df1)\n",
    "    \n",
    "    Z[i,j] = cross_val_score(regr, X_poly, df1.mpg, cv=kf, scoring='neg_mean_squared_error').mean()    "
   ]
  },
  {
   "cell_type": "code",
   "execution_count": null,
   "metadata": {},
   "outputs": [],
   "source": [
    "fig, (ax1, ax2) = plt.subplots(1,2, figsize=(10, 4))\n",
    "\n",
    "# Note: cross_val_score() method return negative values for the scores.\n",
    "# https://github.com/scikit-learn/scikit-learn/issues/2439\n",
    "\n",
    "# Left plot\n",
    "_ = ax1.plot(p_order, np.array(scores)*-1, '-o')\n",
    "_ = ax1.set_title('LOOCV')\n",
    "\n",
    "# Right plot\n",
    "_ = ax2.plot(X, Z*-1, '-o')\n",
    "_ = ax2.set_title('10-fold CV')\n",
    "\n",
    "for ax in fig.axes:\n",
    "    _ = ax.set_ylabel('Mean Squared Error')\n",
    "    _ = ax.set_ylim(15, 30)\n",
    "    _ = ax.set_xlabel('Degree of Polynomial')\n",
    "    _ = ax.set_xlim(0.5, 10.5)\n",
    "    _ = ax.set_xticks(range(2, 11, 2));"
   ]
  },
  {
   "cell_type": "code",
   "execution_count": null,
   "metadata": {},
   "outputs": [],
   "source": []
  }
 ],
 "metadata": {
  "language_info": {
   "name": "python",
   "pygments_lexer": "ipython3"
  }
 },
 "nbformat": 4,
 "nbformat_minor": 2
}
